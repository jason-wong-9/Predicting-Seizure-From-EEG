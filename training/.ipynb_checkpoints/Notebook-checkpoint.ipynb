{
 "cells": [
  {
   "cell_type": "code",
   "execution_count": 1,
   "metadata": {},
   "outputs": [],
   "source": [
    "import scipy.io as spio\n",
    "import numpy as np"
   ]
  },
  {
   "cell_type": "code",
   "execution_count": 2,
   "metadata": {},
   "outputs": [
    {
     "name": "stdout",
     "output_type": "stream",
     "text": [
      "['bleach==2.1.2', 'colorama==0.3.9', 'cycler==0.10.0', 'decorator==4.2.1', 'entrypoints==0.2.3', 'html5lib==1.0.1', 'ipykernel==4.8.0', 'ipython-genutils==0.2.0', 'ipython==6.2.1', 'ipywidgets==7.1.1', 'jedi==0.11.1', 'jinja2==2.10', 'jsonschema==2.6.0', 'jupyter-client==5.2.2', 'jupyter-console==5.2.0', 'jupyter-core==4.4.0', 'jupyter==1.0.0', 'markupsafe==1.0', 'matplotlib==2.1.2', 'mistune==0.8.3', 'mpmath==1.0.0', 'nbconvert==5.3.1', 'nbformat==4.4.0', 'nose==1.3.7', 'notebook==5.4.0', 'numpy==1.14.0', 'pandas==0.22.0', 'pandocfilters==1.4.2', 'parso==0.1.1', 'pickleshare==0.7.4', 'pip==9.0.1', 'prompt-toolkit==1.0.15', 'pygments==2.2.0', 'pyparsing==2.2.0', 'python-dateutil==2.6.1', 'pytz==2017.3', 'pywinpty==0.5.1', 'pyzmq==16.0.4', 'qtconsole==4.3.1', 'scipy==1.0.0', 'send2trash==1.4.2', 'setuptools==28.8.0', 'simplegeneric==0.8.1', 'six==1.11.0', 'sympy==1.1.1', 'terminado==0.8.1', 'testpath==0.3.1', 'tornado==4.5.3', 'traitlets==4.3.2', 'wcwidth==0.1.7', 'webencodings==0.5.1', 'widgetsnbextension==3.1.3']\n"
     ]
    }
   ],
   "source": []
  },
  {
   "cell_type": "code",
   "execution_count": null,
   "metadata": {},
   "outputs": [],
   "source": []
  }
 ],
 "metadata": {
  "kernelspec": {
   "display_name": "Python 3",
   "language": "python",
   "name": "python3"
  },
  "language_info": {
   "codemirror_mode": {
    "name": "ipython",
    "version": 3
   },
   "file_extension": ".py",
   "mimetype": "text/x-python",
   "name": "python",
   "nbconvert_exporter": "python",
   "pygments_lexer": "ipython3",
   "version": "3.6.3"
  }
 },
 "nbformat": 4,
 "nbformat_minor": 2
}
